{
 "cells": [
  {
   "cell_type": "code",
   "execution_count": 2,
   "metadata": {
    "collapsed": false
   },
   "outputs": [],
   "source": [
    "import analysistools as at"
   ]
  },
  {
   "cell_type": "code",
   "execution_count": 4,
   "metadata": {
    "collapsed": false
   },
   "outputs": [
    {
     "data": {
      "text/plain": [
       "[('Indiana', 0.5118595066623018),\n",
       " ('Michigan', 0.5325329349165141),\n",
       " ('Wisconsin', 0.5781995791720315),\n",
       " ('Connecticut', 0.5973585343250866),\n",
       " ('Ohio', 0.6062933752745657),\n",
       " ('North Carolina', 0.6321892460782469),\n",
       " ('Rhode Island', 0.6343238956051054),\n",
       " ('Mississippi', 0.6411068496404205),\n",
       " ('Massachusetts', 0.6427397585136011),\n",
       " ('Nevada', 0.6467680116902647),\n",
       " ('Arkansas', 0.653722276315814),\n",
       " ('Illinois', 0.6621669253925292),\n",
       " ('New Hampshire', 0.6724999466125442),\n",
       " ('Tennessee', 0.6767249572144469),\n",
       " ('Alabama', 0.6846334601201366),\n",
       " ('New York', 0.6881914408657611),\n",
       " ('Minnesota', 0.6889834672014058),\n",
       " ('South Carolina', 0.6897605745928912),\n",
       " ('Iowa', 0.6965511136459457),\n",
       " ('Pennsylvania', 0.7032443311056968),\n",
       " ('California', 0.7097988289442347),\n",
       " ('Vermont', 0.7187291372866267),\n",
       " ('Kentucky', 0.7214783708767887),\n",
       " ('Delaware', 0.7291034566867522),\n",
       " ('Oregon', 0.73183224427147),\n",
       " ('Kansas', 0.732786451356748),\n",
       " ('Utah', 0.7391698603958871),\n",
       " ('New Jersey', 0.7445430266946729),\n",
       " ('Washington', 0.7479493255206043),\n",
       " ('Missouri', 0.7481411541415758),\n",
       " ('Arizona', 0.7486523274296176),\n",
       " ('Georgia', 0.7515158656047288),\n",
       " ('Colorado', 0.7640312631614331),\n",
       " ('South Dakota', 0.7846841098040039),\n",
       " ('Virginia', 0.7862331312691364),\n",
       " ('Florida', 0.7954451452076434),\n",
       " ('Texas', 0.7993256132154117),\n",
       " ('Oklahoma', 0.8017431073427168),\n",
       " ('Nebraska', 0.8066754245783435),\n",
       " ('Maryland', 0.8079451925342768),\n",
       " ('Idaho', 0.8207745193661986),\n",
       " ('Maine', 0.8238326161941734),\n",
       " ('West Virginia', 0.8332606809417203),\n",
       " ('North Dakota', 0.840025033699335),\n",
       " ('Hawaii', 0.8538692131048976),\n",
       " ('New Mexico', 0.8780518319387385),\n",
       " ('Louisiana', 0.8814220025601374),\n",
       " ('Wyoming', 0.8923305357682189),\n",
       " ('Montana', 0.9095034503105333)]"
      ]
     },
     "execution_count": 4,
     "metadata": {},
     "output_type": "execute_result"
    }
   ],
   "source": [
    "data = at.load_json('data/correlations/years/Alaska/1999_correlations_Alaska.json')\n",
    "at.sort_dict(data)"
   ]
  },
  {
   "cell_type": "code",
   "execution_count": null,
   "metadata": {
    "collapsed": true
   },
   "outputs": [],
   "source": []
  }
 ],
 "metadata": {
  "kernelspec": {
   "display_name": "Python 3",
   "language": "python",
   "name": "python3"
  },
  "language_info": {
   "codemirror_mode": {
    "name": "ipython",
    "version": 3
   },
   "file_extension": ".py",
   "mimetype": "text/x-python",
   "name": "python",
   "nbconvert_exporter": "python",
   "pygments_lexer": "ipython3",
   "version": "3.5.1"
  }
 },
 "nbformat": 4,
 "nbformat_minor": 0
}
